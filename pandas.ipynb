{
 "cells": [
  {
   "cell_type": "code",
   "execution_count": 4,
   "id": "984f45f0-f066-46e3-bbf2-e97b57f1312a",
   "metadata": {},
   "outputs": [],
   "source": [
    "import pandas as pd\n",
    "import numpy as np\n",
    "from numpy.random import randn"
   ]
  },
  {
   "cell_type": "code",
   "execution_count": 6,
   "id": "2219bd98-4311-419d-b017-57a282907435",
   "metadata": {},
   "outputs": [],
   "source": [
    "df = pd.DataFrame(randn(4,4), ['A','B','C','D'], ['W','X','Y','Z'])"
   ]
  },
  {
   "cell_type": "code",
   "execution_count": 7,
   "id": "8411de85-d4ed-4db9-8465-f2c412dd9b33",
   "metadata": {},
   "outputs": [
    {
     "data": {
      "text/html": [
       "<div>\n",
       "<style scoped>\n",
       "    .dataframe tbody tr th:only-of-type {\n",
       "        vertical-align: middle;\n",
       "    }\n",
       "\n",
       "    .dataframe tbody tr th {\n",
       "        vertical-align: top;\n",
       "    }\n",
       "\n",
       "    .dataframe thead th {\n",
       "        text-align: right;\n",
       "    }\n",
       "</style>\n",
       "<table border=\"1\" class=\"dataframe\">\n",
       "  <thead>\n",
       "    <tr style=\"text-align: right;\">\n",
       "      <th></th>\n",
       "      <th>W</th>\n",
       "      <th>X</th>\n",
       "      <th>Y</th>\n",
       "      <th>Z</th>\n",
       "    </tr>\n",
       "  </thead>\n",
       "  <tbody>\n",
       "    <tr>\n",
       "      <th>A</th>\n",
       "      <td>0.922962</td>\n",
       "      <td>-0.800634</td>\n",
       "      <td>2.007261</td>\n",
       "      <td>-0.674946</td>\n",
       "    </tr>\n",
       "    <tr>\n",
       "      <th>B</th>\n",
       "      <td>1.125664</td>\n",
       "      <td>0.253696</td>\n",
       "      <td>0.323748</td>\n",
       "      <td>-2.410283</td>\n",
       "    </tr>\n",
       "    <tr>\n",
       "      <th>C</th>\n",
       "      <td>1.129204</td>\n",
       "      <td>-0.505568</td>\n",
       "      <td>0.131456</td>\n",
       "      <td>0.736379</td>\n",
       "    </tr>\n",
       "    <tr>\n",
       "      <th>D</th>\n",
       "      <td>1.194864</td>\n",
       "      <td>0.417505</td>\n",
       "      <td>-0.454441</td>\n",
       "      <td>-0.896524</td>\n",
       "    </tr>\n",
       "  </tbody>\n",
       "</table>\n",
       "</div>"
      ],
      "text/plain": [
       "          W         X         Y         Z\n",
       "A  0.922962 -0.800634  2.007261 -0.674946\n",
       "B  1.125664  0.253696  0.323748 -2.410283\n",
       "C  1.129204 -0.505568  0.131456  0.736379\n",
       "D  1.194864  0.417505 -0.454441 -0.896524"
      ]
     },
     "execution_count": 7,
     "metadata": {},
     "output_type": "execute_result"
    }
   ],
   "source": [
    "df"
   ]
  },
  {
   "cell_type": "code",
   "execution_count": 11,
   "id": "1fc86b47-9a16-4954-a9fb-659f4e316074",
   "metadata": {},
   "outputs": [
    {
     "data": {
      "text/plain": [
       "A   -0.800634\n",
       "B    0.253696\n",
       "C   -0.505568\n",
       "D    0.417505\n",
       "Name: X, dtype: float64"
      ]
     },
     "execution_count": 11,
     "metadata": {},
     "output_type": "execute_result"
    }
   ],
   "source": [
    "#Tek bir sütun seçilmek istendiğinde\n",
    "df['X'] "
   ]
  },
  {
   "cell_type": "code",
   "execution_count": 12,
   "id": "8cbd19c8-82d6-4894-8362-01c3c9968168",
   "metadata": {},
   "outputs": [
    {
     "data": {
      "text/html": [
       "<div>\n",
       "<style scoped>\n",
       "    .dataframe tbody tr th:only-of-type {\n",
       "        vertical-align: middle;\n",
       "    }\n",
       "\n",
       "    .dataframe tbody tr th {\n",
       "        vertical-align: top;\n",
       "    }\n",
       "\n",
       "    .dataframe thead th {\n",
       "        text-align: right;\n",
       "    }\n",
       "</style>\n",
       "<table border=\"1\" class=\"dataframe\">\n",
       "  <thead>\n",
       "    <tr style=\"text-align: right;\">\n",
       "      <th></th>\n",
       "      <th>W</th>\n",
       "      <th>Z</th>\n",
       "    </tr>\n",
       "  </thead>\n",
       "  <tbody>\n",
       "    <tr>\n",
       "      <th>A</th>\n",
       "      <td>0.922962</td>\n",
       "      <td>-0.674946</td>\n",
       "    </tr>\n",
       "    <tr>\n",
       "      <th>B</th>\n",
       "      <td>1.125664</td>\n",
       "      <td>-2.410283</td>\n",
       "    </tr>\n",
       "    <tr>\n",
       "      <th>C</th>\n",
       "      <td>1.129204</td>\n",
       "      <td>0.736379</td>\n",
       "    </tr>\n",
       "    <tr>\n",
       "      <th>D</th>\n",
       "      <td>1.194864</td>\n",
       "      <td>-0.896524</td>\n",
       "    </tr>\n",
       "  </tbody>\n",
       "</table>\n",
       "</div>"
      ],
      "text/plain": [
       "          W         Z\n",
       "A  0.922962 -0.674946\n",
       "B  1.125664 -2.410283\n",
       "C  1.129204  0.736379\n",
       "D  1.194864 -0.896524"
      ]
     },
     "execution_count": 12,
     "metadata": {},
     "output_type": "execute_result"
    }
   ],
   "source": [
    "#Birden fazla sütun seçilmek istediğinde\n",
    "df[['W','Z']]"
   ]
  },
  {
   "cell_type": "code",
   "execution_count": 15,
   "id": "ce4c1a3e-05cc-4f79-915d-e294d3143d34",
   "metadata": {},
   "outputs": [],
   "source": [
    "#Veri çerçevesine yeni bir sütun ekleme\n",
    "df['new'] = df['W'] + df['X']"
   ]
  },
  {
   "cell_type": "code",
   "execution_count": 16,
   "id": "32657ee9-678e-49fe-af25-af67dd268072",
   "metadata": {},
   "outputs": [
    {
     "data": {
      "text/html": [
       "<div>\n",
       "<style scoped>\n",
       "    .dataframe tbody tr th:only-of-type {\n",
       "        vertical-align: middle;\n",
       "    }\n",
       "\n",
       "    .dataframe tbody tr th {\n",
       "        vertical-align: top;\n",
       "    }\n",
       "\n",
       "    .dataframe thead th {\n",
       "        text-align: right;\n",
       "    }\n",
       "</style>\n",
       "<table border=\"1\" class=\"dataframe\">\n",
       "  <thead>\n",
       "    <tr style=\"text-align: right;\">\n",
       "      <th></th>\n",
       "      <th>W</th>\n",
       "      <th>X</th>\n",
       "      <th>Y</th>\n",
       "      <th>Z</th>\n",
       "      <th>new</th>\n",
       "    </tr>\n",
       "  </thead>\n",
       "  <tbody>\n",
       "    <tr>\n",
       "      <th>A</th>\n",
       "      <td>0.922962</td>\n",
       "      <td>-0.800634</td>\n",
       "      <td>2.007261</td>\n",
       "      <td>-0.674946</td>\n",
       "      <td>0.122328</td>\n",
       "    </tr>\n",
       "    <tr>\n",
       "      <th>B</th>\n",
       "      <td>1.125664</td>\n",
       "      <td>0.253696</td>\n",
       "      <td>0.323748</td>\n",
       "      <td>-2.410283</td>\n",
       "      <td>1.379360</td>\n",
       "    </tr>\n",
       "    <tr>\n",
       "      <th>C</th>\n",
       "      <td>1.129204</td>\n",
       "      <td>-0.505568</td>\n",
       "      <td>0.131456</td>\n",
       "      <td>0.736379</td>\n",
       "      <td>0.623636</td>\n",
       "    </tr>\n",
       "    <tr>\n",
       "      <th>D</th>\n",
       "      <td>1.194864</td>\n",
       "      <td>0.417505</td>\n",
       "      <td>-0.454441</td>\n",
       "      <td>-0.896524</td>\n",
       "      <td>1.612369</td>\n",
       "    </tr>\n",
       "  </tbody>\n",
       "</table>\n",
       "</div>"
      ],
      "text/plain": [
       "          W         X         Y         Z       new\n",
       "A  0.922962 -0.800634  2.007261 -0.674946  0.122328\n",
       "B  1.125664  0.253696  0.323748 -2.410283  1.379360\n",
       "C  1.129204 -0.505568  0.131456  0.736379  0.623636\n",
       "D  1.194864  0.417505 -0.454441 -0.896524  1.612369"
      ]
     },
     "execution_count": 16,
     "metadata": {},
     "output_type": "execute_result"
    }
   ],
   "source": [
    "df"
   ]
  },
  {
   "cell_type": "code",
   "execution_count": 17,
   "id": "ffa22392-c8d9-4a03-b0bb-60abe306fb05",
   "metadata": {},
   "outputs": [],
   "source": [
    "#Veri çerçevesinden bir sütun silme\n",
    "df.drop('new', axis=1, inplace=True)"
   ]
  },
  {
   "cell_type": "code",
   "execution_count": 18,
   "id": "f66b3b25-df89-4768-bb8a-45b6051c4b42",
   "metadata": {},
   "outputs": [
    {
     "data": {
      "text/html": [
       "<div>\n",
       "<style scoped>\n",
       "    .dataframe tbody tr th:only-of-type {\n",
       "        vertical-align: middle;\n",
       "    }\n",
       "\n",
       "    .dataframe tbody tr th {\n",
       "        vertical-align: top;\n",
       "    }\n",
       "\n",
       "    .dataframe thead th {\n",
       "        text-align: right;\n",
       "    }\n",
       "</style>\n",
       "<table border=\"1\" class=\"dataframe\">\n",
       "  <thead>\n",
       "    <tr style=\"text-align: right;\">\n",
       "      <th></th>\n",
       "      <th>W</th>\n",
       "      <th>X</th>\n",
       "      <th>Y</th>\n",
       "      <th>Z</th>\n",
       "    </tr>\n",
       "  </thead>\n",
       "  <tbody>\n",
       "    <tr>\n",
       "      <th>A</th>\n",
       "      <td>0.922962</td>\n",
       "      <td>-0.800634</td>\n",
       "      <td>2.007261</td>\n",
       "      <td>-0.674946</td>\n",
       "    </tr>\n",
       "    <tr>\n",
       "      <th>B</th>\n",
       "      <td>1.125664</td>\n",
       "      <td>0.253696</td>\n",
       "      <td>0.323748</td>\n",
       "      <td>-2.410283</td>\n",
       "    </tr>\n",
       "    <tr>\n",
       "      <th>C</th>\n",
       "      <td>1.129204</td>\n",
       "      <td>-0.505568</td>\n",
       "      <td>0.131456</td>\n",
       "      <td>0.736379</td>\n",
       "    </tr>\n",
       "    <tr>\n",
       "      <th>D</th>\n",
       "      <td>1.194864</td>\n",
       "      <td>0.417505</td>\n",
       "      <td>-0.454441</td>\n",
       "      <td>-0.896524</td>\n",
       "    </tr>\n",
       "  </tbody>\n",
       "</table>\n",
       "</div>"
      ],
      "text/plain": [
       "          W         X         Y         Z\n",
       "A  0.922962 -0.800634  2.007261 -0.674946\n",
       "B  1.125664  0.253696  0.323748 -2.410283\n",
       "C  1.129204 -0.505568  0.131456  0.736379\n",
       "D  1.194864  0.417505 -0.454441 -0.896524"
      ]
     },
     "execution_count": 18,
     "metadata": {},
     "output_type": "execute_result"
    }
   ],
   "source": [
    "df"
   ]
  },
  {
   "cell_type": "code",
   "execution_count": 19,
   "id": "1e3135ee-6475-43ef-ac6d-5d40290d16c1",
   "metadata": {},
   "outputs": [
    {
     "data": {
      "text/html": [
       "<div>\n",
       "<style scoped>\n",
       "    .dataframe tbody tr th:only-of-type {\n",
       "        vertical-align: middle;\n",
       "    }\n",
       "\n",
       "    .dataframe tbody tr th {\n",
       "        vertical-align: top;\n",
       "    }\n",
       "\n",
       "    .dataframe thead th {\n",
       "        text-align: right;\n",
       "    }\n",
       "</style>\n",
       "<table border=\"1\" class=\"dataframe\">\n",
       "  <thead>\n",
       "    <tr style=\"text-align: right;\">\n",
       "      <th></th>\n",
       "      <th>W</th>\n",
       "      <th>X</th>\n",
       "      <th>Y</th>\n",
       "      <th>Z</th>\n",
       "    </tr>\n",
       "  </thead>\n",
       "  <tbody>\n",
       "    <tr>\n",
       "      <th>A</th>\n",
       "      <td>0.922962</td>\n",
       "      <td>-0.800634</td>\n",
       "      <td>2.007261</td>\n",
       "      <td>-0.674946</td>\n",
       "    </tr>\n",
       "    <tr>\n",
       "      <th>B</th>\n",
       "      <td>1.125664</td>\n",
       "      <td>0.253696</td>\n",
       "      <td>0.323748</td>\n",
       "      <td>-2.410283</td>\n",
       "    </tr>\n",
       "    <tr>\n",
       "      <th>C</th>\n",
       "      <td>1.129204</td>\n",
       "      <td>-0.505568</td>\n",
       "      <td>0.131456</td>\n",
       "      <td>0.736379</td>\n",
       "    </tr>\n",
       "  </tbody>\n",
       "</table>\n",
       "</div>"
      ],
      "text/plain": [
       "          W         X         Y         Z\n",
       "A  0.922962 -0.800634  2.007261 -0.674946\n",
       "B  1.125664  0.253696  0.323748 -2.410283\n",
       "C  1.129204 -0.505568  0.131456  0.736379"
      ]
     },
     "execution_count": 19,
     "metadata": {},
     "output_type": "execute_result"
    }
   ],
   "source": [
    "#Veri çerçevesinden bir satır silmek için\n",
    "df.drop('D', axis=0)"
   ]
  },
  {
   "cell_type": "code",
   "execution_count": 20,
   "id": "979515ae-1123-4f7f-b908-4b6f7af7b8c5",
   "metadata": {},
   "outputs": [
    {
     "data": {
      "text/plain": [
       "W    0.922962\n",
       "X   -0.800634\n",
       "Y    2.007261\n",
       "Z   -0.674946\n",
       "Name: A, dtype: float64"
      ]
     },
     "execution_count": 20,
     "metadata": {},
     "output_type": "execute_result"
    }
   ],
   "source": [
    "#Veri çerçevesinden istenen satırı seçmek\n",
    "df.loc['A']"
   ]
  },
  {
   "cell_type": "code",
   "execution_count": 21,
   "id": "3bf45685-6bef-4518-b2b1-be511e691d3d",
   "metadata": {},
   "outputs": [
    {
     "data": {
      "text/plain": [
       "W    0.922962\n",
       "X   -0.800634\n",
       "Y    2.007261\n",
       "Z   -0.674946\n",
       "Name: A, dtype: float64"
      ]
     },
     "execution_count": 21,
     "metadata": {},
     "output_type": "execute_result"
    }
   ],
   "source": [
    "#Veri çerçevesinden istenen satırı seçmek\n",
    "df.iloc[0]"
   ]
  },
  {
   "cell_type": "code",
   "execution_count": 22,
   "id": "04a859e0-3a52-4b1f-ae28-d8c7b0ea2ad5",
   "metadata": {},
   "outputs": [],
   "source": [
    "#Koşul ifadeleri\n",
    "booldf = df > 0"
   ]
  },
  {
   "cell_type": "code",
   "execution_count": 26,
   "id": "35ed56e8-6760-404f-bf7b-581d71413afe",
   "metadata": {},
   "outputs": [
    {
     "data": {
      "text/html": [
       "<div>\n",
       "<style scoped>\n",
       "    .dataframe tbody tr th:only-of-type {\n",
       "        vertical-align: middle;\n",
       "    }\n",
       "\n",
       "    .dataframe tbody tr th {\n",
       "        vertical-align: top;\n",
       "    }\n",
       "\n",
       "    .dataframe thead th {\n",
       "        text-align: right;\n",
       "    }\n",
       "</style>\n",
       "<table border=\"1\" class=\"dataframe\">\n",
       "  <thead>\n",
       "    <tr style=\"text-align: right;\">\n",
       "      <th></th>\n",
       "      <th>W</th>\n",
       "      <th>X</th>\n",
       "      <th>Y</th>\n",
       "      <th>Z</th>\n",
       "    </tr>\n",
       "  </thead>\n",
       "  <tbody>\n",
       "    <tr>\n",
       "      <th>A</th>\n",
       "      <td>True</td>\n",
       "      <td>False</td>\n",
       "      <td>True</td>\n",
       "      <td>False</td>\n",
       "    </tr>\n",
       "    <tr>\n",
       "      <th>B</th>\n",
       "      <td>True</td>\n",
       "      <td>True</td>\n",
       "      <td>True</td>\n",
       "      <td>False</td>\n",
       "    </tr>\n",
       "    <tr>\n",
       "      <th>C</th>\n",
       "      <td>True</td>\n",
       "      <td>False</td>\n",
       "      <td>True</td>\n",
       "      <td>True</td>\n",
       "    </tr>\n",
       "    <tr>\n",
       "      <th>D</th>\n",
       "      <td>True</td>\n",
       "      <td>True</td>\n",
       "      <td>False</td>\n",
       "      <td>False</td>\n",
       "    </tr>\n",
       "  </tbody>\n",
       "</table>\n",
       "</div>"
      ],
      "text/plain": [
       "      W      X      Y      Z\n",
       "A  True  False   True  False\n",
       "B  True   True   True  False\n",
       "C  True  False   True   True\n",
       "D  True   True  False  False"
      ]
     },
     "execution_count": 26,
     "metadata": {},
     "output_type": "execute_result"
    }
   ],
   "source": [
    "booldf"
   ]
  },
  {
   "cell_type": "code",
   "execution_count": 27,
   "id": "68a1949e-04e1-4d70-b663-bfcc32e2f2f2",
   "metadata": {},
   "outputs": [
    {
     "data": {
      "text/html": [
       "<div>\n",
       "<style scoped>\n",
       "    .dataframe tbody tr th:only-of-type {\n",
       "        vertical-align: middle;\n",
       "    }\n",
       "\n",
       "    .dataframe tbody tr th {\n",
       "        vertical-align: top;\n",
       "    }\n",
       "\n",
       "    .dataframe thead th {\n",
       "        text-align: right;\n",
       "    }\n",
       "</style>\n",
       "<table border=\"1\" class=\"dataframe\">\n",
       "  <thead>\n",
       "    <tr style=\"text-align: right;\">\n",
       "      <th></th>\n",
       "      <th>W</th>\n",
       "      <th>X</th>\n",
       "      <th>Y</th>\n",
       "      <th>Z</th>\n",
       "    </tr>\n",
       "  </thead>\n",
       "  <tbody>\n",
       "    <tr>\n",
       "      <th>A</th>\n",
       "      <td>0.922962</td>\n",
       "      <td>NaN</td>\n",
       "      <td>2.007261</td>\n",
       "      <td>NaN</td>\n",
       "    </tr>\n",
       "    <tr>\n",
       "      <th>B</th>\n",
       "      <td>1.125664</td>\n",
       "      <td>0.253696</td>\n",
       "      <td>0.323748</td>\n",
       "      <td>NaN</td>\n",
       "    </tr>\n",
       "    <tr>\n",
       "      <th>C</th>\n",
       "      <td>1.129204</td>\n",
       "      <td>NaN</td>\n",
       "      <td>0.131456</td>\n",
       "      <td>0.736379</td>\n",
       "    </tr>\n",
       "    <tr>\n",
       "      <th>D</th>\n",
       "      <td>1.194864</td>\n",
       "      <td>0.417505</td>\n",
       "      <td>NaN</td>\n",
       "      <td>NaN</td>\n",
       "    </tr>\n",
       "  </tbody>\n",
       "</table>\n",
       "</div>"
      ],
      "text/plain": [
       "          W         X         Y         Z\n",
       "A  0.922962       NaN  2.007261       NaN\n",
       "B  1.125664  0.253696  0.323748       NaN\n",
       "C  1.129204       NaN  0.131456  0.736379\n",
       "D  1.194864  0.417505       NaN       NaN"
      ]
     },
     "execution_count": 27,
     "metadata": {},
     "output_type": "execute_result"
    }
   ],
   "source": [
    "df[booldf]"
   ]
  },
  {
   "cell_type": "code",
   "execution_count": 28,
   "id": "fbec986f-b272-45ba-99cc-7010ded210db",
   "metadata": {},
   "outputs": [
    {
     "data": {
      "text/html": [
       "<div>\n",
       "<style scoped>\n",
       "    .dataframe tbody tr th:only-of-type {\n",
       "        vertical-align: middle;\n",
       "    }\n",
       "\n",
       "    .dataframe tbody tr th {\n",
       "        vertical-align: top;\n",
       "    }\n",
       "\n",
       "    .dataframe thead th {\n",
       "        text-align: right;\n",
       "    }\n",
       "</style>\n",
       "<table border=\"1\" class=\"dataframe\">\n",
       "  <thead>\n",
       "    <tr style=\"text-align: right;\">\n",
       "      <th></th>\n",
       "      <th>W</th>\n",
       "      <th>X</th>\n",
       "      <th>Y</th>\n",
       "      <th>Z</th>\n",
       "    </tr>\n",
       "  </thead>\n",
       "  <tbody>\n",
       "    <tr>\n",
       "      <th>A</th>\n",
       "      <td>0.922962</td>\n",
       "      <td>-0.800634</td>\n",
       "      <td>2.007261</td>\n",
       "      <td>-0.674946</td>\n",
       "    </tr>\n",
       "    <tr>\n",
       "      <th>B</th>\n",
       "      <td>1.125664</td>\n",
       "      <td>0.253696</td>\n",
       "      <td>0.323748</td>\n",
       "      <td>-2.410283</td>\n",
       "    </tr>\n",
       "    <tr>\n",
       "      <th>C</th>\n",
       "      <td>1.129204</td>\n",
       "      <td>-0.505568</td>\n",
       "      <td>0.131456</td>\n",
       "      <td>0.736379</td>\n",
       "    </tr>\n",
       "    <tr>\n",
       "      <th>D</th>\n",
       "      <td>1.194864</td>\n",
       "      <td>0.417505</td>\n",
       "      <td>-0.454441</td>\n",
       "      <td>-0.896524</td>\n",
       "    </tr>\n",
       "  </tbody>\n",
       "</table>\n",
       "</div>"
      ],
      "text/plain": [
       "          W         X         Y         Z\n",
       "A  0.922962 -0.800634  2.007261 -0.674946\n",
       "B  1.125664  0.253696  0.323748 -2.410283\n",
       "C  1.129204 -0.505568  0.131456  0.736379\n",
       "D  1.194864  0.417505 -0.454441 -0.896524"
      ]
     },
     "execution_count": 28,
     "metadata": {},
     "output_type": "execute_result"
    }
   ],
   "source": [
    "df[df['W'] > 0]"
   ]
  },
  {
   "cell_type": "code",
   "execution_count": 30,
   "id": "07ca90f3-e681-467e-afea-8247ccd3f150",
   "metadata": {},
   "outputs": [
    {
     "data": {
      "text/html": [
       "<div>\n",
       "<style scoped>\n",
       "    .dataframe tbody tr th:only-of-type {\n",
       "        vertical-align: middle;\n",
       "    }\n",
       "\n",
       "    .dataframe tbody tr th {\n",
       "        vertical-align: top;\n",
       "    }\n",
       "\n",
       "    .dataframe thead th {\n",
       "        text-align: right;\n",
       "    }\n",
       "</style>\n",
       "<table border=\"1\" class=\"dataframe\">\n",
       "  <thead>\n",
       "    <tr style=\"text-align: right;\">\n",
       "      <th></th>\n",
       "      <th>W</th>\n",
       "      <th>X</th>\n",
       "      <th>Y</th>\n",
       "      <th>Z</th>\n",
       "    </tr>\n",
       "  </thead>\n",
       "  <tbody>\n",
       "    <tr>\n",
       "      <th>A</th>\n",
       "      <td>0.922962</td>\n",
       "      <td>-0.800634</td>\n",
       "      <td>2.007261</td>\n",
       "      <td>-0.674946</td>\n",
       "    </tr>\n",
       "    <tr>\n",
       "      <th>B</th>\n",
       "      <td>1.125664</td>\n",
       "      <td>0.253696</td>\n",
       "      <td>0.323748</td>\n",
       "      <td>-2.410283</td>\n",
       "    </tr>\n",
       "    <tr>\n",
       "      <th>D</th>\n",
       "      <td>1.194864</td>\n",
       "      <td>0.417505</td>\n",
       "      <td>-0.454441</td>\n",
       "      <td>-0.896524</td>\n",
       "    </tr>\n",
       "  </tbody>\n",
       "</table>\n",
       "</div>"
      ],
      "text/plain": [
       "          W         X         Y         Z\n",
       "A  0.922962 -0.800634  2.007261 -0.674946\n",
       "B  1.125664  0.253696  0.323748 -2.410283\n",
       "D  1.194864  0.417505 -0.454441 -0.896524"
      ]
     },
     "execution_count": 30,
     "metadata": {},
     "output_type": "execute_result"
    }
   ],
   "source": [
    "#and(&) operatörü\n",
    "df[(df['W'] > 0) & (df['Z'] < 0)]"
   ]
  },
  {
   "cell_type": "code",
   "execution_count": 32,
   "id": "25516281-f347-469e-9a0e-0650d23015fa",
   "metadata": {},
   "outputs": [
    {
     "data": {
      "text/html": [
       "<div>\n",
       "<style scoped>\n",
       "    .dataframe tbody tr th:only-of-type {\n",
       "        vertical-align: middle;\n",
       "    }\n",
       "\n",
       "    .dataframe tbody tr th {\n",
       "        vertical-align: top;\n",
       "    }\n",
       "\n",
       "    .dataframe thead th {\n",
       "        text-align: right;\n",
       "    }\n",
       "</style>\n",
       "<table border=\"1\" class=\"dataframe\">\n",
       "  <thead>\n",
       "    <tr style=\"text-align: right;\">\n",
       "      <th></th>\n",
       "      <th>W</th>\n",
       "      <th>X</th>\n",
       "      <th>Y</th>\n",
       "      <th>Z</th>\n",
       "    </tr>\n",
       "  </thead>\n",
       "  <tbody>\n",
       "    <tr>\n",
       "      <th>A</th>\n",
       "      <td>0.922962</td>\n",
       "      <td>-0.800634</td>\n",
       "      <td>2.007261</td>\n",
       "      <td>-0.674946</td>\n",
       "    </tr>\n",
       "    <tr>\n",
       "      <th>B</th>\n",
       "      <td>1.125664</td>\n",
       "      <td>0.253696</td>\n",
       "      <td>0.323748</td>\n",
       "      <td>-2.410283</td>\n",
       "    </tr>\n",
       "    <tr>\n",
       "      <th>C</th>\n",
       "      <td>1.129204</td>\n",
       "      <td>-0.505568</td>\n",
       "      <td>0.131456</td>\n",
       "      <td>0.736379</td>\n",
       "    </tr>\n",
       "    <tr>\n",
       "      <th>D</th>\n",
       "      <td>1.194864</td>\n",
       "      <td>0.417505</td>\n",
       "      <td>-0.454441</td>\n",
       "      <td>-0.896524</td>\n",
       "    </tr>\n",
       "  </tbody>\n",
       "</table>\n",
       "</div>"
      ],
      "text/plain": [
       "          W         X         Y         Z\n",
       "A  0.922962 -0.800634  2.007261 -0.674946\n",
       "B  1.125664  0.253696  0.323748 -2.410283\n",
       "C  1.129204 -0.505568  0.131456  0.736379\n",
       "D  1.194864  0.417505 -0.454441 -0.896524"
      ]
     },
     "execution_count": 32,
     "metadata": {},
     "output_type": "execute_result"
    }
   ],
   "source": [
    "#or (|) operatörü\n",
    "df[(df['W'] > 0) | (df['Z'] < 0)]"
   ]
  },
  {
   "cell_type": "code",
   "execution_count": null,
   "id": "62fcdaba-df4a-4a46-be56-52dfe7fadbb3",
   "metadata": {},
   "outputs": [],
   "source": []
  }
 ],
 "metadata": {
  "kernelspec": {
   "display_name": "Python 3 (ipykernel)",
   "language": "python",
   "name": "python3"
  },
  "language_info": {
   "codemirror_mode": {
    "name": "ipython",
    "version": 3
   },
   "file_extension": ".py",
   "mimetype": "text/x-python",
   "name": "python",
   "nbconvert_exporter": "python",
   "pygments_lexer": "ipython3",
   "version": "3.12.0"
  }
 },
 "nbformat": 4,
 "nbformat_minor": 5
}
