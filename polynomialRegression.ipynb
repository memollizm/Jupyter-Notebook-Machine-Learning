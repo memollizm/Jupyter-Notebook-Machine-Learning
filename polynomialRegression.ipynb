{
 "cells": [
  {
   "cell_type": "code",
   "execution_count": 2,
   "id": "fd52f805-5ee5-45e9-b2ff-a659589f28f7",
   "metadata": {
    "tags": []
   },
   "outputs": [],
   "source": [
    "import numpy as np\n",
    "import matplotlib.pyplot as plt\n",
    "from sklearn.preprocessing import PolynomialFeatures\n",
    "from sklearn.linear_model import LinearRegression\n",
    "from sklearn.metrics import mean_squared_error, r2_score"
   ]
  },
  {
   "cell_type": "code",
   "execution_count": 3,
   "id": "f22b4737-b385-4c5d-9f83-9045ee3483c5",
   "metadata": {
    "tags": []
   },
   "outputs": [],
   "source": [
    "# Örnek veri seti oluşturalım\n",
    "np.random.seed(0)\n",
    "X = 2 * np.random.rand(100, 1)\n",
    "y = 5 * X**3 - 6 * X**2 + 2 * X + 3 + np.random.randn(100, 1)"
   ]
  },
  {
   "cell_type": "code",
   "execution_count": 4,
   "id": "b94406be-7616-4622-8f5b-a88fcd4f1989",
   "metadata": {
    "tags": []
   },
   "outputs": [
    {
     "data": {
      "text/plain": [
       "(array([[1.09762701],\n",
       "        [1.43037873],\n",
       "        [1.20552675],\n",
       "        [1.08976637],\n",
       "        [0.8473096 ],\n",
       "        [1.29178823],\n",
       "        [0.87517442],\n",
       "        [1.783546  ],\n",
       "        [1.92732552],\n",
       "        [0.76688304],\n",
       "        [1.58345008],\n",
       "        [1.05778984],\n",
       "        [1.13608912],\n",
       "        [1.85119328],\n",
       "        [0.14207212],\n",
       "        [0.1742586 ],\n",
       "        [0.04043679],\n",
       "        [1.66523969],\n",
       "        [1.5563135 ],\n",
       "        [1.7400243 ],\n",
       "        [1.95723668],\n",
       "        [1.59831713],\n",
       "        [0.92295872],\n",
       "        [1.56105835],\n",
       "        [0.23654885],\n",
       "        [1.27984204],\n",
       "        [0.28670657],\n",
       "        [1.88933783],\n",
       "        [1.04369664],\n",
       "        [0.82932388],\n",
       "        [0.52911122],\n",
       "        [1.54846738],\n",
       "        [0.91230066],\n",
       "        [1.1368679 ],\n",
       "        [0.0375796 ],\n",
       "        [1.23527099],\n",
       "        [1.22419145],\n",
       "        [1.23386799],\n",
       "        [1.88749616],\n",
       "        [1.3636406 ],\n",
       "        [0.7190158 ],\n",
       "        [0.87406391],\n",
       "        [1.39526239],\n",
       "        [0.12045094],\n",
       "        [1.33353343],\n",
       "        [1.34127574],\n",
       "        [0.42076512],\n",
       "        [0.2578526 ],\n",
       "        [0.6308567 ],\n",
       "        [0.72742154],\n",
       "        [1.14039354],\n",
       "        [0.87720303],\n",
       "        [1.97674768],\n",
       "        [0.20408962],\n",
       "        [0.41775351],\n",
       "        [0.32261904],\n",
       "        [1.30621665],\n",
       "        [0.50658321],\n",
       "        [0.93262155],\n",
       "        [0.48885118],\n",
       "        [0.31793917],\n",
       "        [0.22075028],\n",
       "        [1.31265918],\n",
       "        [0.2763659 ],\n",
       "        [0.39316472],\n",
       "        [0.73745034],\n",
       "        [1.64198646],\n",
       "        [0.19420255],\n",
       "        [1.67588981],\n",
       "        [0.19219682],\n",
       "        [1.95291893],\n",
       "        [0.9373024 ],\n",
       "        [1.95352218],\n",
       "        [1.20969104],\n",
       "        [1.47852716],\n",
       "        [0.07837558],\n",
       "        [0.56561393],\n",
       "        [0.24039312],\n",
       "        [0.5922804 ],\n",
       "        [0.23745544],\n",
       "        [0.63596636],\n",
       "        [0.82852599],\n",
       "        [0.12829499],\n",
       "        [1.38494424],\n",
       "        [1.13320291],\n",
       "        [0.53077898],\n",
       "        [1.04649611],\n",
       "        [0.18788102],\n",
       "        [1.15189299],\n",
       "        [1.8585924 ],\n",
       "        [0.6371379 ],\n",
       "        [1.33482076],\n",
       "        [0.26359572],\n",
       "        [1.43265441],\n",
       "        [0.57881219],\n",
       "        [0.36638272],\n",
       "        [1.17302587],\n",
       "        [0.04021509],\n",
       "        [1.65788006],\n",
       "        [0.00939095]]),\n",
       " array([[ 3.41341692],\n",
       "        [ 9.11833917],\n",
       "        [ 5.91687594],\n",
       "        [ 2.98872683],\n",
       "        [ 4.91683002],\n",
       "        [ 8.24530841],\n",
       "        [ 4.68515971],\n",
       "        [15.66857235],\n",
       "        [19.29245591],\n",
       "        [ 4.3146166 ],\n",
       "        [10.5708722 ],\n",
       "        [ 5.54241625],\n",
       "        [ 5.06800485],\n",
       "        [18.83695066],\n",
       "        [ 3.53374198],\n",
       "        [ 3.89935175],\n",
       "        [ 3.0818934 ],\n",
       "        [14.56695223],\n",
       "        [10.55469463],\n",
       "        [15.05715406],\n",
       "        [23.30164253],\n",
       "        [ 9.93661501],\n",
       "        [ 2.39544051],\n",
       "        [11.49083465],\n",
       "        [ 2.03042302],\n",
       "        [ 8.15720987],\n",
       "        [ 2.78442756],\n",
       "        [18.33451374],\n",
       "        [ 6.15902698],\n",
       "        [ 4.86444797],\n",
       "        [ 4.9866757 ],\n",
       "        [11.18066984],\n",
       "        [ 2.76612564],\n",
       "        [ 6.77581944],\n",
       "        [ 2.79894783],\n",
       "        [ 6.54209745],\n",
       "        [ 6.57690677],\n",
       "        [ 5.57053418],\n",
       "        [19.63558422],\n",
       "        [ 8.17094916],\n",
       "        [ 3.57115213],\n",
       "        [ 2.40367117],\n",
       "        [ 7.98940524],\n",
       "        [ 4.48897498],\n",
       "        [ 6.15981912],\n",
       "        [ 6.80370677],\n",
       "        [ 2.71658517],\n",
       "        [ 5.05176162],\n",
       "        [ 3.8014694 ],\n",
       "        [ 3.61199913],\n",
       "        [ 4.12328077],\n",
       "        [ 4.05171786],\n",
       "        [21.45499227],\n",
       "        [ 3.23259865],\n",
       "        [ 2.5170805 ],\n",
       "        [ 3.86506897],\n",
       "        [ 7.0951594 ],\n",
       "        [ 2.91512188],\n",
       "        [ 4.0984437 ],\n",
       "        [ 2.03490521],\n",
       "        [ 1.69880376],\n",
       "        [ 3.64229471],\n",
       "        [ 6.76259243],\n",
       "        [ 3.8350361 ],\n",
       "        [ 5.54587729],\n",
       "        [ 4.16163131],\n",
       "        [11.32939233],\n",
       "        [ 4.31575499],\n",
       "        [11.71880877],\n",
       "        [ 2.73666971],\n",
       "        [21.19535498],\n",
       "        [ 5.43400132],\n",
       "        [20.54043039],\n",
       "        [ 4.66385057],\n",
       "        [ 8.90296291],\n",
       "        [ 2.45882369],\n",
       "        [ 4.24310262],\n",
       "        [ 2.12358183],\n",
       "        [ 1.9711639 ],\n",
       "        [ 2.76572505],\n",
       "        [ 2.63327418],\n",
       "        [ 5.31158249],\n",
       "        [ 4.11781159],\n",
       "        [ 7.6311202 ],\n",
       "        [ 3.61208326],\n",
       "        [ 3.96323504],\n",
       "        [ 3.25222478],\n",
       "        [ 1.6523556 ],\n",
       "        [ 6.17266006],\n",
       "        [18.40922227],\n",
       "        [ 4.05268018],\n",
       "        [ 7.18945123],\n",
       "        [ 4.05870255],\n",
       "        [ 7.60189752],\n",
       "        [ 2.08281881],\n",
       "        [ 3.85485147],\n",
       "        [ 4.35706145],\n",
       "        [ 2.38150208],\n",
       "        [12.15279608],\n",
       "        [ 3.03573606]]))"
      ]
     },
     "execution_count": 4,
     "metadata": {},
     "output_type": "execute_result"
    }
   ],
   "source": [
    "X,y"
   ]
  },
  {
   "cell_type": "code",
   "execution_count": 5,
   "id": "20fdae13-8d9d-4861-9abe-c9713e8969b8",
   "metadata": {
    "tags": []
   },
   "outputs": [
    {
     "data": {
      "image/png": "[encoded data removed]",
      "text/plain": [
       "<Figure size 800x600 with 1 Axes>"
      ]
     },
     "metadata": {},
     "output_type": "display_data"
    }
   ],
   "source": [
    "# Veri setini görselleştirelim\n",
    "plt.figure(figsize=(8, 6))\n",
    "plt.scatter(X, y, s=15)\n",
    "plt.title('Örnek Veri Seti')\n",
    "plt.xlabel('X')\n",
    "plt.ylabel('y')\n",
    "plt.grid()\n",
    "plt.show()"
   ]
  },
  {
   "cell_type": "code",
   "execution_count": 6,
   "id": "861c167a-e5a3-461a-921e-74bd4aa709d8",
   "metadata": {
    "tags": []
   },
   "outputs": [],
   "source": [
    "# PolynomialFeatures kullanarak polinom özellikleri ekleyelim\n",
    "poly_features = PolynomialFeatures(degree=3)  # 3. dereceden bir polinom oluşturalım\n",
    "X_poly = poly_features.fit_transform(X)"
   ]
  },
  {
   "cell_type": "code",
   "execution_count": 7,
   "id": "ceca468c-8db0-4c0a-824b-c6ff7c3a7726",
   "metadata": {
    "tags": []
   },
   "outputs": [
    {
     "data": {
      "text/html": [
       "<style>#sk-container-id-1 {color: black;background-color: white;}#sk-container-id-1 pre{padding: 0;}#sk-container-id-1 div.sk-toggleable {background-color: white;}#sk-container-id-1 label.sk-toggleable__label {cursor: pointer;display: block;width: 100%;margin-bottom: 0;padding: 0.3em;box-sizing: border-box;text-align: center;}#sk-container-id-1 label.sk-toggleable__label-arrow:before {content: \"▸\";float: left;margin-right: 0.25em;color: #696969;}#sk-container-id-1 label.sk-toggleable__label-arrow:hover:before {color: black;}#sk-container-id-1 div.sk-estimator:hover label.sk-toggleable__label-arrow:before {color: black;}#sk-container-id-1 div.sk-toggleable__content {max-height: 0;max-width: 0;overflow: hidden;text-align: left;background-color: #f0f8ff;}#sk-container-id-1 div.sk-toggleable__content pre {margin: 0.2em;color: black;border-radius: 0.25em;background-color: #f0f8ff;}#sk-container-id-1 input.sk-toggleable__control:checked~div.sk-toggleable__content {max-height: 200px;max-width: 100%;overflow: auto;}#sk-container-id-1 input.sk-toggleable__control:checked~label.sk-toggleable__label-arrow:before {content: \"▾\";}#sk-container-id-1 div.sk-estimator input.sk-toggleable__control:checked~label.sk-toggleable__label {background-color: #d4ebff;}#sk-container-id-1 div.sk-label input.sk-toggleable__control:checked~label.sk-toggleable__label {background-color: #d4ebff;}#sk-container-id-1 input.sk-hidden--visually {border: 0;clip: rect(1px 1px 1px 1px);clip: rect(1px, 1px, 1px, 1px);height: 1px;margin: -1px;overflow: hidden;padding: 0;position: absolute;width: 1px;}#sk-container-id-1 div.sk-estimator {font-family: monospace;background-color: #f0f8ff;border: 1px dotted black;border-radius: 0.25em;box-sizing: border-box;margin-bottom: 0.5em;}#sk-container-id-1 div.sk-estimator:hover {background-color: #d4ebff;}#sk-container-id-1 div.sk-parallel-item::after {content: \"\";width: 100%;border-bottom: 1px solid gray;flex-grow: 1;}#sk-container-id-1 div.sk-label:hover label.sk-toggleable__label {background-color: #d4ebff;}#sk-container-id-1 div.sk-serial::before {content: \"\";position: absolute;border-left: 1px solid gray;box-sizing: border-box;top: 0;bottom: 0;left: 50%;z-index: 0;}#sk-container-id-1 div.sk-serial {display: flex;flex-direction: column;align-items: center;background-color: white;padding-right: 0.2em;padding-left: 0.2em;position: relative;}#sk-container-id-1 div.sk-item {position: relative;z-index: 1;}#sk-container-id-1 div.sk-parallel {display: flex;align-items: stretch;justify-content: center;background-color: white;position: relative;}#sk-container-id-1 div.sk-item::before, #sk-container-id-1 div.sk-parallel-item::before {content: \"\";position: absolute;border-left: 1px solid gray;box-sizing: border-box;top: 0;bottom: 0;left: 50%;z-index: -1;}#sk-container-id-1 div.sk-parallel-item {display: flex;flex-direction: column;z-index: 1;position: relative;background-color: white;}#sk-container-id-1 div.sk-parallel-item:first-child::after {align-self: flex-end;width: 50%;}#sk-container-id-1 div.sk-parallel-item:last-child::after {align-self: flex-start;width: 50%;}#sk-container-id-1 div.sk-parallel-item:only-child::after {width: 0;}#sk-container-id-1 div.sk-dashed-wrapped {border: 1px dashed gray;margin: 0 0.4em 0.5em 0.4em;box-sizing: border-box;padding-bottom: 0.4em;background-color: white;}#sk-container-id-1 div.sk-label label {font-family: monospace;font-weight: bold;display: inline-block;line-height: 1.2em;}#sk-container-id-1 div.sk-label-container {text-align: center;}#sk-container-id-1 div.sk-container {/* jupyter's `normalize.less` sets `[hidden] { display: none; }` but bootstrap.min.css set `[hidden] { display: none !important; }` so we also need the `!important` here to be able to override the default hidden behavior on the sphinx rendered scikit-learn.org. See: https://github.com/scikit-learn/scikit-learn/issues/21755 */display: inline-block !important;position: relative;}#sk-container-id-1 div.sk-text-repr-fallback {display: none;}</style><div id=\"sk-container-id-1\" class=\"sk-top-container\"><div class=\"sk-text-repr-fallback\"><pre>LinearRegression()</pre><b>In a Jupyter environment, please rerun this cell to show the HTML representation or trust the notebook. <br />On GitHub, the HTML representation is unable to render, please try loading this page with nbviewer.org.</b></div><div class=\"sk-container\" hidden><div class=\"sk-item\"><div class=\"sk-estimator sk-toggleable\"><input class=\"sk-toggleable__control sk-hidden--visually\" id=\"sk-estimator-id-1\" type=\"checkbox\" checked><label for=\"sk-estimator-id-1\" class=\"sk-toggleable__label sk-toggleable__label-arrow\">LinearRegression</label><div class=\"sk-toggleable__content\"><pre>LinearRegression()</pre></div></div></div></div></div>"
      ],
      "text/plain": [
       "LinearRegression()"
      ]
     },
     "execution_count": 7,
     "metadata": {},
     "output_type": "execute_result"
    }
   ],
   "source": [
    "# Polinomiyal regresyon modelini oluşturalım ve eğitelim\n",
    "model = LinearRegression()\n",
    "model.fit(X_poly, y)"
   ]
  },
  {
   "cell_type": "code",
   "execution_count": 8,
   "id": "919d7f7d-a970-4560-97cf-f3aec357933a",
   "metadata": {
    "tags": []
   },
   "outputs": [],
   "source": [
    "# Eğitim verileri üzerinde tahmin yapalım\n",
    "y_pred = model.predict(X_poly)"
   ]
  },
  {
   "cell_type": "code",
   "execution_count": 9,
   "id": "a58421ea-e093-46c9-b553-0fbd92ae4660",
   "metadata": {
    "tags": []
   },
   "outputs": [
    {
     "name": "stdout",
     "output_type": "stream",
     "text": [
      "Ortalama Kare Hata (MSE): 0.9711464556716111\n",
      "R-kare (R-squared): 0.9638440378930928\n"
     ]
    }
   ],
   "source": [
    "# Modelin performansını değerlendirelim\n",
    "mse = mean_squared_error(y, y_pred)\n",
    "r2 = r2_score(y, y_pred)\n",
    "\n",
    "print(\"Ortalama Kare Hata (MSE):\", mse)\n",
    "print(\"R-kare (R-squared):\", r2)"
   ]
  },
  {
   "cell_type": "code",
   "execution_count": 10,
   "id": "93f44df7-7501-4876-a0b5-b7397bd6e6e3",
   "metadata": {
    "tags": []
   },
   "outputs": [
    {
     "data": {
      "image/png": "[encoded data removed]",
      "text/plain": [
       "<Figure size 800x600 with 1 Axes>"
      ]
     },
     "metadata": {},
     "output_type": "display_data"
    }
   ],
   "source": [
    "# Regresyon doğrusunu ve tahminleri görselleştirelim\n",
    "plt.figure(figsize=(8, 6))\n",
    "plt.scatter(X, y, s=15, label='Gerçek Veriler')\n",
    "plt.plot(np.sort(X, axis=0), y_pred[np.argsort(X, axis=0)[:, 0]], color='red', label='Polinomiyal Regresyon')\n",
    "plt.title('Polinomiyal Regresyon')\n",
    "plt.xlabel('X')\n",
    "plt.ylabel('y')\n",
    "plt.legend()\n",
    "plt.grid()\n",
    "plt.show()"
   ]
  },
  {
   "cell_type": "code",
   "execution_count": null,
   "id": "87396e12-dca8-429a-9e7f-946ade3b9c9c",
   "metadata": {},
   "outputs": [],
   "source": []
  }
 ],
 "metadata": {
  "kernelspec": {
   "display_name": "Python 3 (ipykernel)",
   "language": "python",
   "name": "python3"
  },
  "language_info": {
   "codemirror_mode": {
    "name": "ipython",
    "version": 3
   },
   "file_extension": ".py",
   "mimetype": "text/x-python",
   "name": "python",
   "nbconvert_exporter": "python",
   "pygments_lexer": "ipython3",
   "version": "3.12.0"
  }
 },
 "nbformat": 4,
 "nbformat_minor": 5
}
